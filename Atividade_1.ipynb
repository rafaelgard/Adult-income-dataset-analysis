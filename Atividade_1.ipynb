{
  "nbformat": 4,
  "nbformat_minor": 0,
  "metadata": {
    "colab": {
      "name": "Atividade 1.ipynb",
      "provenance": [],
      "collapsed_sections": []
    },
    "kernelspec": {
      "name": "python3",
      "display_name": "Python 3"
    },
    "language_info": {
      "name": "python"
    }
  },
  "cells": [
    {
      "cell_type": "code",
      "metadata": {
        "id": "g02NV40QF77Y",
        "colab": {
          "base_uri": "https://localhost:8080/"
        },
        "outputId": "928dbf3f-79a8-46e9-8f6b-db49cd4e813d"
      },
      "source": [
        "#Faz a ligação com o banco de dados do Google\n",
        "from google.colab import drive\n",
        "drive.mount('/content/drive', force_remount=True)"
      ],
      "execution_count": 98,
      "outputs": [
        {
          "output_type": "stream",
          "text": [
            "Mounted at /content/drive\n"
          ],
          "name": "stdout"
        }
      ]
    },
    {
      "cell_type": "code",
      "metadata": {
        "id": "a28w2P1JGCbZ"
      },
      "source": [
        "import numpy as np \n",
        "import pandas as pd \n",
        "from scipy.stats import ttest_ind, ttest_rel\n",
        "from scipy import stats\n",
        "from sklearn.neighbors import KNeighborsClassifier\n",
        "from sklearn.model_selection import cross_val_score"
      ],
      "execution_count": 99,
      "outputs": []
    },
    {
      "cell_type": "code",
      "metadata": {
        "id": "dxv7XNO_HaZO",
        "colab": {
          "base_uri": "https://localhost:8080/",
          "height": 281
        },
        "outputId": "632d034e-cae8-4598-b5b1-e9233b064ab0"
      },
      "source": [
        "df=pd.read_csv('/content/drive/MyDrive/Colab Notebooks/Aprendizado estatístico/adult.csv',encoding='UTF-8',sep=',', header=0)\n",
        "df.head()"
      ],
      "execution_count": 100,
      "outputs": [
        {
          "output_type": "execute_result",
          "data": {
            "text/html": [
              "<div>\n",
              "<style scoped>\n",
              "    .dataframe tbody tr th:only-of-type {\n",
              "        vertical-align: middle;\n",
              "    }\n",
              "\n",
              "    .dataframe tbody tr th {\n",
              "        vertical-align: top;\n",
              "    }\n",
              "\n",
              "    .dataframe thead th {\n",
              "        text-align: right;\n",
              "    }\n",
              "</style>\n",
              "<table border=\"1\" class=\"dataframe\">\n",
              "  <thead>\n",
              "    <tr style=\"text-align: right;\">\n",
              "      <th></th>\n",
              "      <th>age</th>\n",
              "      <th>workclass</th>\n",
              "      <th>fnlwgt</th>\n",
              "      <th>education</th>\n",
              "      <th>education.num</th>\n",
              "      <th>marital.status</th>\n",
              "      <th>occupation</th>\n",
              "      <th>relationship</th>\n",
              "      <th>race</th>\n",
              "      <th>sex</th>\n",
              "      <th>capital.gain</th>\n",
              "      <th>capital.loss</th>\n",
              "      <th>hours.per.week</th>\n",
              "      <th>native.country</th>\n",
              "      <th>income</th>\n",
              "    </tr>\n",
              "  </thead>\n",
              "  <tbody>\n",
              "    <tr>\n",
              "      <th>0</th>\n",
              "      <td>90</td>\n",
              "      <td>?</td>\n",
              "      <td>77053</td>\n",
              "      <td>HS-grad</td>\n",
              "      <td>9</td>\n",
              "      <td>Widowed</td>\n",
              "      <td>?</td>\n",
              "      <td>Not-in-family</td>\n",
              "      <td>White</td>\n",
              "      <td>Female</td>\n",
              "      <td>0</td>\n",
              "      <td>4356</td>\n",
              "      <td>40</td>\n",
              "      <td>United-States</td>\n",
              "      <td>&lt;=50K</td>\n",
              "    </tr>\n",
              "    <tr>\n",
              "      <th>1</th>\n",
              "      <td>82</td>\n",
              "      <td>Private</td>\n",
              "      <td>132870</td>\n",
              "      <td>HS-grad</td>\n",
              "      <td>9</td>\n",
              "      <td>Widowed</td>\n",
              "      <td>Exec-managerial</td>\n",
              "      <td>Not-in-family</td>\n",
              "      <td>White</td>\n",
              "      <td>Female</td>\n",
              "      <td>0</td>\n",
              "      <td>4356</td>\n",
              "      <td>18</td>\n",
              "      <td>United-States</td>\n",
              "      <td>&lt;=50K</td>\n",
              "    </tr>\n",
              "    <tr>\n",
              "      <th>2</th>\n",
              "      <td>66</td>\n",
              "      <td>?</td>\n",
              "      <td>186061</td>\n",
              "      <td>Some-college</td>\n",
              "      <td>10</td>\n",
              "      <td>Widowed</td>\n",
              "      <td>?</td>\n",
              "      <td>Unmarried</td>\n",
              "      <td>Black</td>\n",
              "      <td>Female</td>\n",
              "      <td>0</td>\n",
              "      <td>4356</td>\n",
              "      <td>40</td>\n",
              "      <td>United-States</td>\n",
              "      <td>&lt;=50K</td>\n",
              "    </tr>\n",
              "    <tr>\n",
              "      <th>3</th>\n",
              "      <td>54</td>\n",
              "      <td>Private</td>\n",
              "      <td>140359</td>\n",
              "      <td>7th-8th</td>\n",
              "      <td>4</td>\n",
              "      <td>Divorced</td>\n",
              "      <td>Machine-op-inspct</td>\n",
              "      <td>Unmarried</td>\n",
              "      <td>White</td>\n",
              "      <td>Female</td>\n",
              "      <td>0</td>\n",
              "      <td>3900</td>\n",
              "      <td>40</td>\n",
              "      <td>United-States</td>\n",
              "      <td>&lt;=50K</td>\n",
              "    </tr>\n",
              "    <tr>\n",
              "      <th>4</th>\n",
              "      <td>41</td>\n",
              "      <td>Private</td>\n",
              "      <td>264663</td>\n",
              "      <td>Some-college</td>\n",
              "      <td>10</td>\n",
              "      <td>Separated</td>\n",
              "      <td>Prof-specialty</td>\n",
              "      <td>Own-child</td>\n",
              "      <td>White</td>\n",
              "      <td>Female</td>\n",
              "      <td>0</td>\n",
              "      <td>3900</td>\n",
              "      <td>40</td>\n",
              "      <td>United-States</td>\n",
              "      <td>&lt;=50K</td>\n",
              "    </tr>\n",
              "  </tbody>\n",
              "</table>\n",
              "</div>"
            ],
            "text/plain": [
              "   age workclass  fnlwgt  ... hours.per.week  native.country income\n",
              "0   90         ?   77053  ...             40   United-States  <=50K\n",
              "1   82   Private  132870  ...             18   United-States  <=50K\n",
              "2   66         ?  186061  ...             40   United-States  <=50K\n",
              "3   54   Private  140359  ...             40   United-States  <=50K\n",
              "4   41   Private  264663  ...             40   United-States  <=50K\n",
              "\n",
              "[5 rows x 15 columns]"
            ]
          },
          "metadata": {
            "tags": []
          },
          "execution_count": 100
        }
      ]
    },
    {
      "cell_type": "markdown",
      "metadata": {
        "id": "I1k00BP58X1o"
      },
      "source": [
        "### VERIFICANDO OS DADOS"
      ]
    },
    {
      "cell_type": "code",
      "metadata": {
        "colab": {
          "base_uri": "https://localhost:8080/"
        },
        "id": "KHXgyIPYIcfh",
        "outputId": "61ed14e9-9b3d-4a33-b387-142de2ff3db3"
      },
      "source": [
        "#Identificando os nomes das colunas\n",
        "print('Colunas: ',df.columns,'\\n')\n",
        "\n",
        "#Identificando a quantidade de linhas e colunas do dataframe\n",
        "linhas=df.shape[0]\n",
        "colunas=df.shape[1]\n",
        "\n",
        "print('Número de Linhas:', linhas)\n",
        "print('Número de Colunas:', colunas)"
      ],
      "execution_count": 101,
      "outputs": [
        {
          "output_type": "stream",
          "text": [
            "Colunas:  Index(['age', 'workclass', 'fnlwgt', 'education', 'education.num',\n",
            "       'marital.status', 'occupation', 'relationship', 'race', 'sex',\n",
            "       'capital.gain', 'capital.loss', 'hours.per.week', 'native.country',\n",
            "       'income'],\n",
            "      dtype='object') \n",
            "\n",
            "Número de Linhas: 32561\n",
            "Número de Colunas: 15\n"
          ],
          "name": "stdout"
        }
      ]
    },
    {
      "cell_type": "markdown",
      "metadata": {
        "id": "WncM5J9e98XU"
      },
      "source": [
        "### LIMPANDO OS DADOS"
      ]
    },
    {
      "cell_type": "code",
      "metadata": {
        "id": "ijtR5_FJ-IIc",
        "colab": {
          "base_uri": "https://localhost:8080/"
        },
        "outputId": "e72d6e34-8b6e-407a-a1a9-bd30313cd300"
      },
      "source": [
        "print('=================================================')\n",
        "for coluna in df.columns:\n",
        "  print('Coluna: ', coluna)\n",
        "  print(np.unique(df[coluna], return_counts = True)[0])\n",
        "  print('=================================================')"
      ],
      "execution_count": 102,
      "outputs": [
        {
          "output_type": "stream",
          "text": [
            "=================================================\n",
            "Coluna:  age\n",
            "[17 18 19 20 21 22 23 24 25 26 27 28 29 30 31 32 33 34 35 36 37 38 39 40\n",
            " 41 42 43 44 45 46 47 48 49 50 51 52 53 54 55 56 57 58 59 60 61 62 63 64\n",
            " 65 66 67 68 69 70 71 72 73 74 75 76 77 78 79 80 81 82 83 84 85 86 87 88\n",
            " 90]\n",
            "=================================================\n",
            "Coluna:  workclass\n",
            "['?' 'Federal-gov' 'Local-gov' 'Never-worked' 'Private' 'Self-emp-inc'\n",
            " 'Self-emp-not-inc' 'State-gov' 'Without-pay']\n",
            "=================================================\n",
            "Coluna:  fnlwgt\n",
            "[  12285   13769   14878 ... 1366120 1455435 1484705]\n",
            "=================================================\n",
            "Coluna:  education\n",
            "['10th' '11th' '12th' '1st-4th' '5th-6th' '7th-8th' '9th' 'Assoc-acdm'\n",
            " 'Assoc-voc' 'Bachelors' 'Doctorate' 'HS-grad' 'Masters' 'Preschool'\n",
            " 'Prof-school' 'Some-college']\n",
            "=================================================\n",
            "Coluna:  education.num\n",
            "[ 1  2  3  4  5  6  7  8  9 10 11 12 13 14 15 16]\n",
            "=================================================\n",
            "Coluna:  marital.status\n",
            "['Divorced' 'Married-AF-spouse' 'Married-civ-spouse'\n",
            " 'Married-spouse-absent' 'Never-married' 'Separated' 'Widowed']\n",
            "=================================================\n",
            "Coluna:  occupation\n",
            "['?' 'Adm-clerical' 'Armed-Forces' 'Craft-repair' 'Exec-managerial'\n",
            " 'Farming-fishing' 'Handlers-cleaners' 'Machine-op-inspct' 'Other-service'\n",
            " 'Priv-house-serv' 'Prof-specialty' 'Protective-serv' 'Sales'\n",
            " 'Tech-support' 'Transport-moving']\n",
            "=================================================\n",
            "Coluna:  relationship\n",
            "['Husband' 'Not-in-family' 'Other-relative' 'Own-child' 'Unmarried' 'Wife']\n",
            "=================================================\n",
            "Coluna:  race\n",
            "['Amer-Indian-Eskimo' 'Asian-Pac-Islander' 'Black' 'Other' 'White']\n",
            "=================================================\n",
            "Coluna:  sex\n",
            "['Female' 'Male']\n",
            "=================================================\n",
            "Coluna:  capital.gain\n",
            "[    0   114   401   594   914   991  1055  1086  1111  1151  1173  1409\n",
            "  1424  1455  1471  1506  1639  1797  1831  1848  2009  2036  2050  2062\n",
            "  2105  2174  2176  2202  2228  2290  2329  2346  2354  2387  2407  2414\n",
            "  2463  2538  2580  2597  2635  2653  2829  2885  2907  2936  2961  2964\n",
            "  2977  2993  3103  3137  3273  3325  3411  3418  3432  3456  3464  3471\n",
            "  3674  3781  3818  3887  3908  3942  4064  4101  4386  4416  4508  4650\n",
            "  4687  4787  4865  4931  4934  5013  5060  5178  5455  5556  5721  6097\n",
            "  6360  6418  6497  6514  6723  6767  6849  7298  7430  7443  7688  7896\n",
            "  7978  8614  9386  9562 10520 10566 10605 11678 13550 14084 14344 15020\n",
            " 15024 15831 18481 20051 22040 25124 25236 27828 34095 41310 99999]\n",
            "=================================================\n",
            "Coluna:  capital.loss\n",
            "[   0  155  213  323  419  625  653  810  880  974 1092 1138 1258 1340\n",
            " 1380 1408 1411 1485 1504 1539 1564 1573 1579 1590 1594 1602 1617 1628\n",
            " 1648 1651 1668 1669 1672 1719 1721 1726 1735 1740 1741 1755 1762 1816\n",
            " 1825 1844 1848 1876 1887 1902 1944 1974 1977 1980 2001 2002 2042 2051\n",
            " 2057 2080 2129 2149 2163 2174 2179 2201 2205 2206 2231 2238 2246 2258\n",
            " 2267 2282 2339 2352 2377 2392 2415 2444 2457 2467 2472 2489 2547 2559\n",
            " 2603 2754 2824 3004 3683 3770 3900 4356]\n",
            "=================================================\n",
            "Coluna:  hours.per.week\n",
            "[ 1  2  3  4  5  6  7  8  9 10 11 12 13 14 15 16 17 18 19 20 21 22 23 24\n",
            " 25 26 27 28 29 30 31 32 33 34 35 36 37 38 39 40 41 42 43 44 45 46 47 48\n",
            " 49 50 51 52 53 54 55 56 57 58 59 60 61 62 63 64 65 66 67 68 70 72 73 74\n",
            " 75 76 77 78 80 81 82 84 85 86 87 88 89 90 91 92 94 95 96 97 98 99]\n",
            "=================================================\n",
            "Coluna:  native.country\n",
            "['?' 'Cambodia' 'Canada' 'China' 'Columbia' 'Cuba' 'Dominican-Republic'\n",
            " 'Ecuador' 'El-Salvador' 'England' 'France' 'Germany' 'Greece' 'Guatemala'\n",
            " 'Haiti' 'Holand-Netherlands' 'Honduras' 'Hong' 'Hungary' 'India' 'Iran'\n",
            " 'Ireland' 'Italy' 'Jamaica' 'Japan' 'Laos' 'Mexico' 'Nicaragua'\n",
            " 'Outlying-US(Guam-USVI-etc)' 'Peru' 'Philippines' 'Poland' 'Portugal'\n",
            " 'Puerto-Rico' 'Scotland' 'South' 'Taiwan' 'Thailand' 'Trinadad&Tobago'\n",
            " 'United-States' 'Vietnam' 'Yugoslavia']\n",
            "=================================================\n",
            "Coluna:  income\n",
            "['<=50K' '>50K']\n",
            "=================================================\n"
          ],
          "name": "stdout"
        }
      ]
    },
    {
      "cell_type": "markdown",
      "metadata": {
        "id": "zIAj-LkcA_9Y"
      },
      "source": [
        "Note que as colunas workclass, occupation, native.country contém valores marcados com '?', estes valores devem ser substituidos. Já as linhas com dados sem informação serão eliminadas.\n"
      ]
    },
    {
      "cell_type": "code",
      "metadata": {
        "id": "nzj1yFWg-aTP"
      },
      "source": [
        "#A coluna 'education.num' é apenas uma represetação numérica da coluna 'education' e será eliminada para evitar \n",
        "#termos 2 colunas representando a mesma informação.\n",
        "df = df.drop([\"education.num\"], axis=1)\n",
        "\n",
        "#Remove as linhas com dados sem informação do dataframe\n",
        "df = df[(df['occupation'] != '?')]\n",
        "df = df[df['native.country'] != '?']\n",
        "df = df[(df['workclass'] != '?')]\n",
        "\n",
        "#Substituindo os valores do target\n",
        "df['income']=df['income'].map({'<=50K':0,'>50K':1})\n",
        "\n",
        "#A coluna 'income' é o target, logo deve ser eliminada do dataframe principal\n",
        "target=df[\"income\"]\n",
        "df = df.drop([\"income\"], axis=1)"
      ],
      "execution_count": 103,
      "outputs": []
    },
    {
      "cell_type": "markdown",
      "metadata": {
        "id": "3XuI3LL_AlI4"
      },
      "source": [
        "### ANÁLISE ESTATÍSTICA DOS DADOS"
      ]
    },
    {
      "cell_type": "code",
      "metadata": {
        "colab": {
          "base_uri": "https://localhost:8080/",
          "height": 282
        },
        "id": "98n5UlLVAquG",
        "outputId": "794c3229-64ce-4e76-b747-b502430c4394"
      },
      "source": [
        "#Análise estatística dos features numéricos\n",
        "df.describe()"
      ],
      "execution_count": 104,
      "outputs": [
        {
          "output_type": "execute_result",
          "data": {
            "text/html": [
              "<div>\n",
              "<style scoped>\n",
              "    .dataframe tbody tr th:only-of-type {\n",
              "        vertical-align: middle;\n",
              "    }\n",
              "\n",
              "    .dataframe tbody tr th {\n",
              "        vertical-align: top;\n",
              "    }\n",
              "\n",
              "    .dataframe thead th {\n",
              "        text-align: right;\n",
              "    }\n",
              "</style>\n",
              "<table border=\"1\" class=\"dataframe\">\n",
              "  <thead>\n",
              "    <tr style=\"text-align: right;\">\n",
              "      <th></th>\n",
              "      <th>age</th>\n",
              "      <th>fnlwgt</th>\n",
              "      <th>capital.gain</th>\n",
              "      <th>capital.loss</th>\n",
              "      <th>hours.per.week</th>\n",
              "    </tr>\n",
              "  </thead>\n",
              "  <tbody>\n",
              "    <tr>\n",
              "      <th>count</th>\n",
              "      <td>30162.000000</td>\n",
              "      <td>3.016200e+04</td>\n",
              "      <td>30162.000000</td>\n",
              "      <td>30162.000000</td>\n",
              "      <td>30162.000000</td>\n",
              "    </tr>\n",
              "    <tr>\n",
              "      <th>mean</th>\n",
              "      <td>38.437902</td>\n",
              "      <td>1.897938e+05</td>\n",
              "      <td>1092.007858</td>\n",
              "      <td>88.372489</td>\n",
              "      <td>40.931238</td>\n",
              "    </tr>\n",
              "    <tr>\n",
              "      <th>std</th>\n",
              "      <td>13.134665</td>\n",
              "      <td>1.056530e+05</td>\n",
              "      <td>7406.346497</td>\n",
              "      <td>404.298370</td>\n",
              "      <td>11.979984</td>\n",
              "    </tr>\n",
              "    <tr>\n",
              "      <th>min</th>\n",
              "      <td>17.000000</td>\n",
              "      <td>1.376900e+04</td>\n",
              "      <td>0.000000</td>\n",
              "      <td>0.000000</td>\n",
              "      <td>1.000000</td>\n",
              "    </tr>\n",
              "    <tr>\n",
              "      <th>25%</th>\n",
              "      <td>28.000000</td>\n",
              "      <td>1.176272e+05</td>\n",
              "      <td>0.000000</td>\n",
              "      <td>0.000000</td>\n",
              "      <td>40.000000</td>\n",
              "    </tr>\n",
              "    <tr>\n",
              "      <th>50%</th>\n",
              "      <td>37.000000</td>\n",
              "      <td>1.784250e+05</td>\n",
              "      <td>0.000000</td>\n",
              "      <td>0.000000</td>\n",
              "      <td>40.000000</td>\n",
              "    </tr>\n",
              "    <tr>\n",
              "      <th>75%</th>\n",
              "      <td>47.000000</td>\n",
              "      <td>2.376285e+05</td>\n",
              "      <td>0.000000</td>\n",
              "      <td>0.000000</td>\n",
              "      <td>45.000000</td>\n",
              "    </tr>\n",
              "    <tr>\n",
              "      <th>max</th>\n",
              "      <td>90.000000</td>\n",
              "      <td>1.484705e+06</td>\n",
              "      <td>99999.000000</td>\n",
              "      <td>4356.000000</td>\n",
              "      <td>99.000000</td>\n",
              "    </tr>\n",
              "  </tbody>\n",
              "</table>\n",
              "</div>"
            ],
            "text/plain": [
              "                age        fnlwgt  capital.gain  capital.loss  hours.per.week\n",
              "count  30162.000000  3.016200e+04  30162.000000  30162.000000    30162.000000\n",
              "mean      38.437902  1.897938e+05   1092.007858     88.372489       40.931238\n",
              "std       13.134665  1.056530e+05   7406.346497    404.298370       11.979984\n",
              "min       17.000000  1.376900e+04      0.000000      0.000000        1.000000\n",
              "25%       28.000000  1.176272e+05      0.000000      0.000000       40.000000\n",
              "50%       37.000000  1.784250e+05      0.000000      0.000000       40.000000\n",
              "75%       47.000000  2.376285e+05      0.000000      0.000000       45.000000\n",
              "max       90.000000  1.484705e+06  99999.000000   4356.000000       99.000000"
            ]
          },
          "metadata": {
            "tags": []
          },
          "execution_count": 104
        }
      ]
    },
    {
      "cell_type": "code",
      "metadata": {
        "colab": {
          "base_uri": "https://localhost:8080/",
          "height": 164
        },
        "id": "S4OuyyKkDS1C",
        "outputId": "87d94d55-c77c-47ae-a39c-62a0abcbd75d"
      },
      "source": [
        "#Análise estatística dos features em formato textual\n",
        "df.describe(include=[\"O\"])"
      ],
      "execution_count": 105,
      "outputs": [
        {
          "output_type": "execute_result",
          "data": {
            "text/html": [
              "<div>\n",
              "<style scoped>\n",
              "    .dataframe tbody tr th:only-of-type {\n",
              "        vertical-align: middle;\n",
              "    }\n",
              "\n",
              "    .dataframe tbody tr th {\n",
              "        vertical-align: top;\n",
              "    }\n",
              "\n",
              "    .dataframe thead th {\n",
              "        text-align: right;\n",
              "    }\n",
              "</style>\n",
              "<table border=\"1\" class=\"dataframe\">\n",
              "  <thead>\n",
              "    <tr style=\"text-align: right;\">\n",
              "      <th></th>\n",
              "      <th>workclass</th>\n",
              "      <th>education</th>\n",
              "      <th>marital.status</th>\n",
              "      <th>occupation</th>\n",
              "      <th>relationship</th>\n",
              "      <th>race</th>\n",
              "      <th>sex</th>\n",
              "      <th>native.country</th>\n",
              "    </tr>\n",
              "  </thead>\n",
              "  <tbody>\n",
              "    <tr>\n",
              "      <th>count</th>\n",
              "      <td>30162</td>\n",
              "      <td>30162</td>\n",
              "      <td>30162</td>\n",
              "      <td>30162</td>\n",
              "      <td>30162</td>\n",
              "      <td>30162</td>\n",
              "      <td>30162</td>\n",
              "      <td>30162</td>\n",
              "    </tr>\n",
              "    <tr>\n",
              "      <th>unique</th>\n",
              "      <td>7</td>\n",
              "      <td>16</td>\n",
              "      <td>7</td>\n",
              "      <td>14</td>\n",
              "      <td>6</td>\n",
              "      <td>5</td>\n",
              "      <td>2</td>\n",
              "      <td>41</td>\n",
              "    </tr>\n",
              "    <tr>\n",
              "      <th>top</th>\n",
              "      <td>Private</td>\n",
              "      <td>HS-grad</td>\n",
              "      <td>Married-civ-spouse</td>\n",
              "      <td>Prof-specialty</td>\n",
              "      <td>Husband</td>\n",
              "      <td>White</td>\n",
              "      <td>Male</td>\n",
              "      <td>United-States</td>\n",
              "    </tr>\n",
              "    <tr>\n",
              "      <th>freq</th>\n",
              "      <td>22286</td>\n",
              "      <td>9840</td>\n",
              "      <td>14065</td>\n",
              "      <td>4038</td>\n",
              "      <td>12463</td>\n",
              "      <td>25933</td>\n",
              "      <td>20380</td>\n",
              "      <td>27504</td>\n",
              "    </tr>\n",
              "  </tbody>\n",
              "</table>\n",
              "</div>"
            ],
            "text/plain": [
              "       workclass education      marital.status  ...   race    sex native.country\n",
              "count      30162     30162               30162  ...  30162  30162          30162\n",
              "unique         7        16                   7  ...      5      2             41\n",
              "top      Private   HS-grad  Married-civ-spouse  ...  White   Male  United-States\n",
              "freq       22286      9840               14065  ...  25933  20380          27504\n",
              "\n",
              "[4 rows x 8 columns]"
            ]
          },
          "metadata": {
            "tags": []
          },
          "execution_count": 105
        }
      ]
    },
    {
      "cell_type": "code",
      "metadata": {
        "colab": {
          "base_uri": "https://localhost:8080/"
        },
        "id": "NXIuUykbM3tv",
        "outputId": "acea97ea-14f7-4d15-9e51-9e6ea1b3bbbd"
      },
      "source": [
        "#Identificando quais são as features mais estatisticamente relevantes\n",
        "import scipy.stats as stats\n",
        "def teste_qui_quadrado(coluna, target):\n",
        "    observed=pd.crosstab(coluna,target)\n",
        "    p_valor=stats.chi2_contingency(observed)[1]\n",
        "    return(p_valor)\n",
        "\n",
        "def features_relevantes(dataframe, target):\n",
        "  colunas=dataframe.columns.tolist()\n",
        "  #category\n",
        "  alpha=0.01\n",
        "  count=0\n",
        "  features=[]\n",
        "  for coluna in colunas:\n",
        "      p_valor=teste_qui_quadrado(dataframe[coluna], target)\n",
        "      if p_valor<=alpha:\n",
        "          count+=1\n",
        "          features.append(coluna)\n",
        "          print(coluna,' possui uma relação com o target')\n",
        "          print('p-valor para ',coluna,' é ', p_valor,'\\n')\n",
        "      else:\n",
        "          print(coluna,' não possui uma relação com o target')\n",
        "          print('p-valor para ',coluna,' é ', p_valor,'\\n')\n",
        "  print('Número total de features no dataframe analisado:',len(colunas))\n",
        "  print('Numero de features que contribuem:', count, '\\n')\n",
        "  print(features)\n",
        "  return features\n",
        "  \n",
        "features_relevantes=features_relevantes(df, target)"
      ],
      "execution_count": 106,
      "outputs": [
        {
          "output_type": "stream",
          "text": [
            "age  possui uma relação com o target\n",
            "p-valor para  age  é  0.0 \n",
            "\n",
            "workclass  possui uma relação com o target\n",
            "p-valor para  workclass  é  1.946095589239045e-170 \n",
            "\n",
            "fnlwgt  possui uma relação com o target\n",
            "p-valor para  fnlwgt  é  3.3827785104320154e-06 \n",
            "\n",
            "education  possui uma relação com o target\n",
            "p-valor para  education  é  0.0 \n",
            "\n",
            "marital.status  possui uma relação com o target\n",
            "p-valor para  marital.status  é  0.0 \n",
            "\n",
            "occupation  possui uma relação com o target\n",
            "p-valor para  occupation  é  0.0 \n",
            "\n",
            "relationship  possui uma relação com o target\n",
            "p-valor para  relationship  é  0.0 \n",
            "\n",
            "race  possui uma relação com o target\n",
            "p-valor para  race  é  1.3178285203762715e-64 \n",
            "\n",
            "sex  possui uma relação com o target\n",
            "p-valor para  sex  é  1.00155254124934e-309 \n",
            "\n",
            "capital.gain  possui uma relação com o target\n",
            "p-valor para  capital.gain  é  0.0 \n",
            "\n",
            "capital.loss  possui uma relação com o target\n",
            "p-valor para  capital.loss  é  0.0 \n",
            "\n",
            "hours.per.week  possui uma relação com o target\n",
            "p-valor para  hours.per.week  é  0.0 \n",
            "\n",
            "native.country  possui uma relação com o target\n",
            "p-valor para  native.country  é  6.22122194454428e-45 \n",
            "\n",
            "Número total de features no dataframe analisado: 13\n",
            "Numero de features que contribuem: 13 \n",
            "\n",
            "['age', 'workclass', 'fnlwgt', 'education', 'marital.status', 'occupation', 'relationship', 'race', 'sex', 'capital.gain', 'capital.loss', 'hours.per.week', 'native.country']\n"
          ],
          "name": "stdout"
        }
      ]
    },
    {
      "cell_type": "code",
      "metadata": {
        "colab": {
          "base_uri": "https://localhost:8080/",
          "height": 281
        },
        "id": "nyNAMj0uVQn0",
        "outputId": "7c42fbf8-3030-46fe-ad64-65d1d28bad2b"
      },
      "source": [
        "#Agora que sabemos as features relevantes, vamos filtrar no dataframe principal\n",
        "df=df[features_relevantes]\n",
        "df.head()"
      ],
      "execution_count": 107,
      "outputs": [
        {
          "output_type": "execute_result",
          "data": {
            "text/html": [
              "<div>\n",
              "<style scoped>\n",
              "    .dataframe tbody tr th:only-of-type {\n",
              "        vertical-align: middle;\n",
              "    }\n",
              "\n",
              "    .dataframe tbody tr th {\n",
              "        vertical-align: top;\n",
              "    }\n",
              "\n",
              "    .dataframe thead th {\n",
              "        text-align: right;\n",
              "    }\n",
              "</style>\n",
              "<table border=\"1\" class=\"dataframe\">\n",
              "  <thead>\n",
              "    <tr style=\"text-align: right;\">\n",
              "      <th></th>\n",
              "      <th>age</th>\n",
              "      <th>workclass</th>\n",
              "      <th>fnlwgt</th>\n",
              "      <th>education</th>\n",
              "      <th>marital.status</th>\n",
              "      <th>occupation</th>\n",
              "      <th>relationship</th>\n",
              "      <th>race</th>\n",
              "      <th>sex</th>\n",
              "      <th>capital.gain</th>\n",
              "      <th>capital.loss</th>\n",
              "      <th>hours.per.week</th>\n",
              "      <th>native.country</th>\n",
              "    </tr>\n",
              "  </thead>\n",
              "  <tbody>\n",
              "    <tr>\n",
              "      <th>1</th>\n",
              "      <td>82</td>\n",
              "      <td>Private</td>\n",
              "      <td>132870</td>\n",
              "      <td>HS-grad</td>\n",
              "      <td>Widowed</td>\n",
              "      <td>Exec-managerial</td>\n",
              "      <td>Not-in-family</td>\n",
              "      <td>White</td>\n",
              "      <td>Female</td>\n",
              "      <td>0</td>\n",
              "      <td>4356</td>\n",
              "      <td>18</td>\n",
              "      <td>United-States</td>\n",
              "    </tr>\n",
              "    <tr>\n",
              "      <th>3</th>\n",
              "      <td>54</td>\n",
              "      <td>Private</td>\n",
              "      <td>140359</td>\n",
              "      <td>7th-8th</td>\n",
              "      <td>Divorced</td>\n",
              "      <td>Machine-op-inspct</td>\n",
              "      <td>Unmarried</td>\n",
              "      <td>White</td>\n",
              "      <td>Female</td>\n",
              "      <td>0</td>\n",
              "      <td>3900</td>\n",
              "      <td>40</td>\n",
              "      <td>United-States</td>\n",
              "    </tr>\n",
              "    <tr>\n",
              "      <th>4</th>\n",
              "      <td>41</td>\n",
              "      <td>Private</td>\n",
              "      <td>264663</td>\n",
              "      <td>Some-college</td>\n",
              "      <td>Separated</td>\n",
              "      <td>Prof-specialty</td>\n",
              "      <td>Own-child</td>\n",
              "      <td>White</td>\n",
              "      <td>Female</td>\n",
              "      <td>0</td>\n",
              "      <td>3900</td>\n",
              "      <td>40</td>\n",
              "      <td>United-States</td>\n",
              "    </tr>\n",
              "    <tr>\n",
              "      <th>5</th>\n",
              "      <td>34</td>\n",
              "      <td>Private</td>\n",
              "      <td>216864</td>\n",
              "      <td>HS-grad</td>\n",
              "      <td>Divorced</td>\n",
              "      <td>Other-service</td>\n",
              "      <td>Unmarried</td>\n",
              "      <td>White</td>\n",
              "      <td>Female</td>\n",
              "      <td>0</td>\n",
              "      <td>3770</td>\n",
              "      <td>45</td>\n",
              "      <td>United-States</td>\n",
              "    </tr>\n",
              "    <tr>\n",
              "      <th>6</th>\n",
              "      <td>38</td>\n",
              "      <td>Private</td>\n",
              "      <td>150601</td>\n",
              "      <td>10th</td>\n",
              "      <td>Separated</td>\n",
              "      <td>Adm-clerical</td>\n",
              "      <td>Unmarried</td>\n",
              "      <td>White</td>\n",
              "      <td>Male</td>\n",
              "      <td>0</td>\n",
              "      <td>3770</td>\n",
              "      <td>40</td>\n",
              "      <td>United-States</td>\n",
              "    </tr>\n",
              "  </tbody>\n",
              "</table>\n",
              "</div>"
            ],
            "text/plain": [
              "   age workclass  fnlwgt  ... capital.loss hours.per.week native.country\n",
              "1   82   Private  132870  ...         4356             18  United-States\n",
              "3   54   Private  140359  ...         3900             40  United-States\n",
              "4   41   Private  264663  ...         3900             40  United-States\n",
              "5   34   Private  216864  ...         3770             45  United-States\n",
              "6   38   Private  150601  ...         3770             40  United-States\n",
              "\n",
              "[5 rows x 13 columns]"
            ]
          },
          "metadata": {
            "tags": []
          },
          "execution_count": 107
        }
      ]
    },
    {
      "cell_type": "markdown",
      "metadata": {
        "id": "-iXZeowSIpcQ"
      },
      "source": [
        "### KNN"
      ]
    },
    {
      "cell_type": "code",
      "metadata": {
        "id": "sAjjp6O1IaUz"
      },
      "source": [
        "#Conventendo as variáveis categóricas\n",
        "df_novo=pd.get_dummies(df)"
      ],
      "execution_count": 108,
      "outputs": []
    },
    {
      "cell_type": "code",
      "metadata": {
        "id": "rt_NpSDvIvxh"
      },
      "source": [
        "#Gerando os dados de treino e teste\n",
        "from sklearn.model_selection import train_test_split\n",
        "\n",
        "x_train, x_test, y_train, y_test = train_test_split(df_novo,target,test_size=0.3,random_state=30,stratify=target)"
      ],
      "execution_count": 109,
      "outputs": []
    },
    {
      "cell_type": "code",
      "metadata": {
        "id": "mzdKzP7pXvay"
      },
      "source": [
        "from sklearn.neural_network import MLPClassifier\n",
        "from sklearn.preprocessing import RobustScaler\n",
        "#Ajusta as features\n",
        "scaler = RobustScaler()\n",
        "scaler.fit(x_train)\n",
        "x_train = scaler.transform(x_train)  \n",
        "x_test = scaler.transform(x_test)"
      ],
      "execution_count": 110,
      "outputs": []
    },
    {
      "cell_type": "code",
      "metadata": {
        "id": "aeuJYsKwXQPi"
      },
      "source": [
        "#As avaliações dos classificadores será realizada através da função abaixo\n",
        "from sklearn.metrics import precision_recall_fscore_support\n",
        "from sklearn.metrics import confusion_matrix,accuracy_score\n",
        "def avalia_classificador(clf,x_test,y_test):\n",
        "    predictions = clf.predict(x_test)\n",
        "    print('Precision report:\\nprecision \\t\\t\\t recall \\t\\t\\t f-score \\t\\t\\t support\\n',\n",
        "          precision_recall_fscore_support(y_test, predictions)[0],'\\t',\n",
        "          precision_recall_fscore_support(y_test, predictions)[1],\n",
        "          '\\t',precision_recall_fscore_support(y_test, predictions)[2],'\\t',\n",
        "          precision_recall_fscore_support(y_test, predictions)[3],'\\n')\n",
        "    print('Confusion matrix:\\n',confusion_matrix(y_test, predictions),'\\n')\n",
        "    print('Accuracy score:',accuracy_score(y_test, predictions)*100,'\\n')"
      ],
      "execution_count": 111,
      "outputs": []
    },
    {
      "cell_type": "code",
      "metadata": {
        "id": "FzJvA3nvkTXS"
      },
      "source": [
        "def curva_roc(clf, x_test, y_test):\n",
        "  import matplotlib.pyplot as plt\n",
        "  from sklearn.metrics import plot_roc_curve\n",
        "  plot_roc_curve(clf, x_test, y_test)\n",
        "  plt.show()"
      ],
      "execution_count": 112,
      "outputs": []
    },
    {
      "cell_type": "code",
      "metadata": {
        "id": "X1eWlY78JVKX",
        "colab": {
          "base_uri": "https://localhost:8080/",
          "height": 635
        },
        "outputId": "e422b205-ad5d-4658-9581-a83655dfcc8f"
      },
      "source": [
        "score=np.zeros(shape=(8,2))\n",
        "melhor_tamanho_vizinhanca=0\n",
        "melhor_pontuacao=0\n",
        "\n",
        "for tamanho_vizinhanca in range(1,8):\n",
        "    knn = KNeighborsClassifier(n_neighbors=tamanho_vizinhanca)\n",
        "    knn.fit(x_train,y_train)\n",
        "    pontuacao=knn.score(x_test,y_test)\n",
        "    score[tamanho_vizinhanca-1][0]=tamanho_vizinhanca\n",
        "    score[tamanho_vizinhanca-1][1]=pontuacao\n",
        "    if pontuacao>melhor_pontuacao:\n",
        "      melhor_pontuacao=pontuacao\n",
        "      melhor_tamanho_vizinhanca=tamanho_vizinhanca\n",
        "    print(tamanho_vizinhanca,'-', pontuacao)\n",
        "print('Melhor tamanho de vizinhança:',tamanho_vizinhanca)\n",
        "print('Melhor score:', melhor_pontuacao)\n",
        "\n",
        "#Treinando com o melhor tamanho de vizinhança\n",
        "clf = KNeighborsClassifier(n_neighbors=melhor_tamanho_vizinhanca)\n",
        "clf.fit(x_train,y_train)\n",
        "avalia_classificador(clf,x_test,y_test)\n",
        "score = cross_val_score(clf, x_train, y_train, cv = 5, scoring=\"accuracy\")\n",
        "print(\"Acurácia com cross validation:\", score.mean())\n",
        "curva_roc(clf, x_test, y_test)"
      ],
      "execution_count": 113,
      "outputs": [
        {
          "output_type": "stream",
          "text": [
            "1 - 0.8241794673444579\n",
            "2 - 0.8371090728257266\n",
            "3 - 0.8348988838545696\n",
            "4 - 0.8460603381589126\n",
            "5 - 0.8442921869819869\n",
            "6 - 0.8491546027185324\n",
            "7 - 0.850259697204111\n",
            "Melhor tamanho de vizinhança: 7\n",
            "Melhor score: 0.850259697204111\n",
            "Precision report:\n",
            "precision \t\t\t recall \t\t\t f-score \t\t\t support\n",
            " [0.88827055 0.71974522] \t [0.91584523 0.65230906] \t [0.90184716 0.6843699 ] \t [6797 2252] \n",
            "\n",
            "Confusion matrix:\n",
            " [[6225  572]\n",
            " [ 783 1469]] \n",
            "\n",
            "Accuracy score: 85.0259697204111 \n",
            "\n",
            "Acurácia com cross validation: 0.8518453624009549\n"
          ],
          "name": "stdout"
        },
        {
          "output_type": "display_data",
          "data": {
            "image/png": "[encoded data removed]",
            "text/plain": [
              "<Figure size 432x288 with 1 Axes>"
            ]
          },
          "metadata": {
            "tags": [],
            "needs_background": "light"
          }
        }
      ]
    },
    {
      "cell_type": "markdown",
      "metadata": {
        "id": "hR-_bbt0TAym"
      },
      "source": [
        "### Random Forest"
      ]
    },
    {
      "cell_type": "code",
      "metadata": {
        "id": "dEptwJ_zTCxg",
        "colab": {
          "base_uri": "https://localhost:8080/",
          "height": 475
        },
        "outputId": "c2f99dd1-1284-4183-99bb-3c9a558f79b5"
      },
      "source": [
        "from sklearn.ensemble import RandomForestClassifier\n",
        "\n",
        "clf=RandomForestClassifier(max_depth=40, random_state=30)\n",
        "\n",
        "# Train the model using the training sets\n",
        "clf.fit(x_train,y_train)\n",
        "\n",
        "avalia_classificador(clf,x_test,y_test)\n",
        "score = cross_val_score(clf, x_train, y_train, cv = 5, scoring=\"accuracy\")\n",
        "print(\"Acurácia com cross validation:\", score.mean())\n",
        "curva_roc(clf, x_test, y_test)"
      ],
      "execution_count": 117,
      "outputs": [
        {
          "output_type": "stream",
          "text": [
            "Precision report:\n",
            "precision \t\t\t recall \t\t\t f-score \t\t\t support\n",
            " [0.8796103  0.74409871] \t [0.92982198 0.61589698] \t [0.90401945 0.6739553 ] \t [6797 2252] \n",
            "\n",
            "Confusion matrix:\n",
            " [[6320  477]\n",
            " [ 865 1387]] \n",
            "\n",
            "Accuracy score: 85.1696320035363 \n",
            "\n",
            "Acurácia com cross validation: 0.8512295068635105\n"
          ],
          "name": "stdout"
        },
        {
          "output_type": "display_data",
          "data": {
            "image/png": "[encoded data removed]",
            "text/plain": [
              "<Figure size 432x288 with 1 Axes>"
            ]
          },
          "metadata": {
            "tags": [],
            "needs_background": "light"
          }
        }
      ]
    },
    {
      "cell_type": "markdown",
      "metadata": {
        "id": "BwvgI7EEWfCb"
      },
      "source": [
        "### Multilayer Perceptron\n",
        "\n"
      ]
    },
    {
      "cell_type": "code",
      "metadata": {
        "colab": {
          "base_uri": "https://localhost:8080/",
          "height": 475
        },
        "id": "EbL5tGC4TluA",
        "outputId": "be0b5c7f-8842-491b-b752-78713e85264f"
      },
      "source": [
        "from sklearn.preprocessing import StandardScaler  \n",
        "from sklearn.neural_network import MLPClassifier\n",
        "from sklearn.preprocessing import RobustScaler\n",
        "\n",
        "\n",
        "# Treinando o classificador Multilayer Perceptron\n",
        "clf = MLPClassifier(hidden_layer_sizes=(10, 10, 10),max_iter=1000)  \n",
        "clf.fit(x_train, y_train.values.ravel())\n",
        "\n",
        "avalia_classificador(clf,x_test,y_test)\n",
        "score = cross_val_score(clf, x_train, y_train, cv = 5, scoring=\"accuracy\")\n",
        "print(\"Acurácia com cross validation:\", score.mean())\n",
        "curva_roc(clf, x_test, y_test)"
      ],
      "execution_count": 118,
      "outputs": [
        {
          "output_type": "stream",
          "text": [
            "Precision report:\n",
            "precision \t\t\t recall \t\t\t f-score \t\t\t support\n",
            " [0.87487916 0.74446903] \t [0.93202884 0.59769094] \t [0.90255022 0.66305419] \t [6797 2252] \n",
            "\n",
            "Confusion matrix:\n",
            " [[6335  462]\n",
            " [ 906 1346]] \n",
            "\n",
            "Accuracy score: 84.88230743728589 \n",
            "\n",
            "Acurácia com cross validation: 0.8350305387036523\n"
          ],
          "name": "stdout"
        },
        {
          "output_type": "display_data",
          "data": {
            "image/png": "[encoded data removed]",
            "text/plain": [
              "<Figure size 432x288 with 1 Axes>"
            ]
          },
          "metadata": {
            "tags": [],
            "needs_background": "light"
          }
        }
      ]
    }
  ]
}